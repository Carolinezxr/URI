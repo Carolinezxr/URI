{
 "cells": [
  {
   "cell_type": "code",
   "execution_count": 1,
   "metadata": {},
   "outputs": [],
   "source": [
    "import librosa\n",
    "import librosa.display # You need this in librosa to be able to plot\n",
    "\n",
    "import matplotlib.pyplot as plt\n",
    "\n",
    "clip_dir = '/project/graziul/data/corpora/susas/speech/actual/roller/f1/freefall/freeze1.sph'\n",
    "audio,sr = librosa.load(clip_dir,sr=8000) # all speech tokens were sampled at a rate of 8kHz\n",
    "\n",
    "#fig, ax = plt.subplots(figsize=(15,8))\n",
    "#librosa.display.waveplot(audio, sr=sr, ax=ax) \n",
    "#ax.set(title=\"freeze1.sph waveform\")"
   ]
  },
  {
   "cell_type": "code",
   "execution_count": 4,
   "metadata": {},
   "outputs": [],
   "source": [
    "base_path='/project/graziul/data/corpora/susas/speech/actual/roller'\n",
    "speaker='f1'\n",
    "status='freefall'\n",
    "filepath=base_path+'/'+speaker+'/'+status"
   ]
  },
  {
   "cell_type": "code",
   "execution_count": 5,
   "metadata": {},
   "outputs": [
    {
     "data": {
      "text/plain": [
       "'/project/graziul/data/corpora/susas/speech/actual/roller/f1/freefall'"
      ]
     },
     "execution_count": 5,
     "metadata": {},
     "output_type": "execute_result"
    }
   ],
   "source": [
    "filepath"
   ]
  },
  {
   "cell_type": "code",
   "execution_count": null,
   "metadata": {},
   "outputs": [],
   "source": []
  },
  {
   "cell_type": "code",
   "execution_count": null,
   "metadata": {},
   "outputs": [],
   "source": []
  },
  {
   "cell_type": "code",
   "execution_count": null,
   "metadata": {},
   "outputs": [],
   "source": [
    "# load path"
   ]
  },
  {
   "cell_type": "code",
   "execution_count": null,
   "metadata": {},
   "outputs": [],
   "source": []
  },
  {
   "cell_type": "code",
   "execution_count": null,
   "metadata": {},
   "outputs": [],
   "source": []
  },
  {
   "cell_type": "code",
   "execution_count": null,
   "metadata": {},
   "outputs": [],
   "source": []
  },
  {
   "cell_type": "code",
   "execution_count": null,
   "metadata": {},
   "outputs": [],
   "source": [
    "# feature extraction"
   ]
  },
  {
   "cell_type": "code",
   "execution_count": null,
   "metadata": {},
   "outputs": [],
   "source": [
    "# TEO\n",
    "from teo_cb_auto_env import TeagorExtractor\n",
    "\n",
    "t = TeagorExtractor()\n",
    "\n",
    "def get_teo(sample):\n",
    "    TEO = []\n",
    "    for i in range(0,len(sample)):\n",
    "        filepath = sample.iloc[i,0]\n",
    "        teo_cb_auto_env = t.process_mp3(filepath,1)\n",
    "        TEO.append(pd.DataFrame(pd.DataFrame(teo_cb_auto_env).mean(axis=0)).T)\n",
    "    #print('processing:',i)\n",
    "    TEO = pd.concat(TEO).reset_index()\n",
    "    return TEO"
   ]
  },
  {
   "cell_type": "code",
   "execution_count": null,
   "metadata": {},
   "outputs": [],
   "source": [
    "TE0_0105 = get_teo(sample)"
   ]
  },
  {
   "cell_type": "code",
   "execution_count": null,
   "metadata": {},
   "outputs": [],
   "source": []
  },
  {
   "cell_type": "code",
   "execution_count": null,
   "metadata": {},
   "outputs": [],
   "source": [
    "# GeMAPS\n",
    "import opensmile\n",
    "\n",
    "smile = opensmile.Smile(\n",
    "    feature_set=opensmile.FeatureSet.GeMAPSv01b,\n",
    "    feature_level=opensmile.FeatureLevel.LowLevelDescriptors,\n",
    ")\n",
    "\n",
    "def get_GeMAPS(sample):\n",
    "    GeMAPS = []\n",
    "    for i in range(0,len(sample)):\n",
    "        filepath = sample.iloc[i,0]\n",
    "        audio = AudioSegment.from_mp3(filepath)\n",
    "        sr = audio.frame_rate\n",
    "        audio = audio.get_array_of_samples()\n",
    "        df = smile.process_signal(audio,sr)\n",
    "        GeMAPS.append(pd.DataFrame(df.mean(axis=0)).T)\n",
    "        #print('processing:',i)\n",
    "    \n",
    "    GeMAPS = pd.concat(GeMAPS).reset_index()\n",
    "    return GeMAPS"
   ]
  },
  {
   "cell_type": "code",
   "execution_count": null,
   "metadata": {},
   "outputs": [],
   "source": [
    "features = pd.concat([sample, GeMAPS_0105], axis=1)"
   ]
  }
 ],
 "metadata": {
  "kernelspec": {
   "display_name": "Python 3",
   "language": "python",
   "name": "python3"
  },
  "language_info": {
   "codemirror_mode": {
    "name": "ipython",
    "version": 3
   },
   "file_extension": ".py",
   "mimetype": "text/x-python",
   "name": "python",
   "nbconvert_exporter": "python",
   "pygments_lexer": "ipython3",
   "version": "3.8.5"
  }
 },
 "nbformat": 4,
 "nbformat_minor": 4
}
