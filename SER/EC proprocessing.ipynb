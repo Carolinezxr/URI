{
 "cells": [
  {
   "cell_type": "code",
   "execution_count": 36,
   "metadata": {},
   "outputs": [],
   "source": [
    "import librosa\n",
    "import os\n",
    "from matplotlib import pyplot as plt\n",
    "import IPython.display as ipd\n",
    "import pandas as pd\n",
    "from pydub import AudioSegment\n",
    "import ffprobe\n",
    "import ffmpeg\n",
    "import numpy as np\n",
    "import wave\n",
    "import os\n",
    "from pydub import AudioSegment\n",
    "import numpy as np\n",
    "from teager_py import Teager\n",
    "import pydub\n",
    "\n",
    "import warnings\n",
    "warnings.filterwarnings('ignore')\n",
    "\n",
    "%matplotlib inline"
   ]
  },
  {
   "cell_type": "code",
   "execution_count": 40,
   "metadata": {},
   "outputs": [],
   "source": [
    "import zipfile\n",
    "\n",
    "# zip file handler  \n",
    "zip = zipfile.ZipFile('/home/xuranzeng/thesis/ReleasedDataset.zip')\n",
    "\n",
    "# list available files in the container\n",
    "filename = zip.namelist()\n",
    "\n",
    "# clean path and file names\n",
    "audioname = (item for item in filename if item.endswith('mp3')) \n",
    "data = pd.DataFrame(list(audioname))\n",
    "data = pd.concat([data, data[0].str.split('/', 4, expand=True)], axis=1) # split path \n",
    "data = pd.concat([data, data[1].str.split('_', 2, expand=True)], axis=1) # split company and day\n",
    "data.columns=[\"Path\",\"Basic\", \"Company_Day\", \"Type\", \"Filename\",\"Company\",\"Day\"] # rename column\n",
    "data = data[['Path','Company',\"Day\",\"Filename\"]] # delete useless columns\n",
    "\n",
    "# path\n",
    "base_path='/home/xuranzeng/thesis/EC/'\n",
    "data['Complete_Path'] = base_path + data['Path'].astype(str)\n",
    "data = data[['Complete_Path','Company',\"Day\",\"Filename\"]] # delete useless columns"
   ]
  },
  {
   "cell_type": "code",
   "execution_count": 41,
   "metadata": {},
   "outputs": [
    {
     "data": {
      "text/html": [
       "<div>\n",
       "<style scoped>\n",
       "    .dataframe tbody tr th:only-of-type {\n",
       "        vertical-align: middle;\n",
       "    }\n",
       "\n",
       "    .dataframe tbody tr th {\n",
       "        vertical-align: top;\n",
       "    }\n",
       "\n",
       "    .dataframe thead th {\n",
       "        text-align: right;\n",
       "    }\n",
       "</style>\n",
       "<table border=\"1\" class=\"dataframe\">\n",
       "  <thead>\n",
       "    <tr style=\"text-align: right;\">\n",
       "      <th></th>\n",
       "      <th>Complete_Path</th>\n",
       "      <th>Company</th>\n",
       "      <th>Day</th>\n",
       "      <th>Filename</th>\n",
       "    </tr>\n",
       "  </thead>\n",
       "  <tbody>\n",
       "    <tr>\n",
       "      <th>0</th>\n",
       "      <td>/home/xuranzeng/thesis/EC/ReleasedDataset_mp3/...</td>\n",
       "      <td>Booking Holdings Inc</td>\n",
       "      <td>20170509</td>\n",
       "      <td>Daniel J. Finnegan_15_1.mp3</td>\n",
       "    </tr>\n",
       "    <tr>\n",
       "      <th>1</th>\n",
       "      <td>/home/xuranzeng/thesis/EC/ReleasedDataset_mp3/...</td>\n",
       "      <td>Booking Holdings Inc</td>\n",
       "      <td>20170509</td>\n",
       "      <td>Daniel J. Finnegan_16_1.mp3</td>\n",
       "    </tr>\n",
       "    <tr>\n",
       "      <th>2</th>\n",
       "      <td>/home/xuranzeng/thesis/EC/ReleasedDataset_mp3/...</td>\n",
       "      <td>Booking Holdings Inc</td>\n",
       "      <td>20170509</td>\n",
       "      <td>Daniel J. Finnegan_1_14.mp3</td>\n",
       "    </tr>\n",
       "    <tr>\n",
       "      <th>3</th>\n",
       "      <td>/home/xuranzeng/thesis/EC/ReleasedDataset_mp3/...</td>\n",
       "      <td>Booking Holdings Inc</td>\n",
       "      <td>20170509</td>\n",
       "      <td>Daniel J. Finnegan_2_11.mp3</td>\n",
       "    </tr>\n",
       "    <tr>\n",
       "      <th>4</th>\n",
       "      <td>/home/xuranzeng/thesis/EC/ReleasedDataset_mp3/...</td>\n",
       "      <td>Booking Holdings Inc</td>\n",
       "      <td>20170509</td>\n",
       "      <td>Daniel J. Finnegan_10_5.mp3</td>\n",
       "    </tr>\n",
       "    <tr>\n",
       "      <th>...</th>\n",
       "      <td>...</td>\n",
       "      <td>...</td>\n",
       "      <td>...</td>\n",
       "      <td>...</td>\n",
       "    </tr>\n",
       "    <tr>\n",
       "      <th>89838</th>\n",
       "      <td>/home/xuranzeng/thesis/EC/ReleasedDataset_mp3/...</td>\n",
       "      <td>Lilly (Eli) &amp; Co.</td>\n",
       "      <td>20170425</td>\n",
       "      <td>David A. Ricks_1_6.mp3</td>\n",
       "    </tr>\n",
       "    <tr>\n",
       "      <th>89839</th>\n",
       "      <td>/home/xuranzeng/thesis/EC/ReleasedDataset_mp3/...</td>\n",
       "      <td>Lilly (Eli) &amp; Co.</td>\n",
       "      <td>20170425</td>\n",
       "      <td>David A. Ricks_3_4.mp3</td>\n",
       "    </tr>\n",
       "    <tr>\n",
       "      <th>89840</th>\n",
       "      <td>/home/xuranzeng/thesis/EC/ReleasedDataset_mp3/...</td>\n",
       "      <td>Lilly (Eli) &amp; Co.</td>\n",
       "      <td>20170425</td>\n",
       "      <td>David A. Ricks_5_10.mp3</td>\n",
       "    </tr>\n",
       "    <tr>\n",
       "      <th>89841</th>\n",
       "      <td>/home/xuranzeng/thesis/EC/ReleasedDataset_mp3/...</td>\n",
       "      <td>Lilly (Eli) &amp; Co.</td>\n",
       "      <td>20170425</td>\n",
       "      <td>David A. Ricks_1_30.mp3</td>\n",
       "    </tr>\n",
       "    <tr>\n",
       "      <th>89842</th>\n",
       "      <td>/home/xuranzeng/thesis/EC/ReleasedDataset_mp3/...</td>\n",
       "      <td>Lilly (Eli) &amp; Co.</td>\n",
       "      <td>20170425</td>\n",
       "      <td>David A. Ricks_1_3.mp3</td>\n",
       "    </tr>\n",
       "  </tbody>\n",
       "</table>\n",
       "<p>89843 rows × 4 columns</p>\n",
       "</div>"
      ],
      "text/plain": [
       "                                           Complete_Path  \\\n",
       "0      /home/xuranzeng/thesis/EC/ReleasedDataset_mp3/...   \n",
       "1      /home/xuranzeng/thesis/EC/ReleasedDataset_mp3/...   \n",
       "2      /home/xuranzeng/thesis/EC/ReleasedDataset_mp3/...   \n",
       "3      /home/xuranzeng/thesis/EC/ReleasedDataset_mp3/...   \n",
       "4      /home/xuranzeng/thesis/EC/ReleasedDataset_mp3/...   \n",
       "...                                                  ...   \n",
       "89838  /home/xuranzeng/thesis/EC/ReleasedDataset_mp3/...   \n",
       "89839  /home/xuranzeng/thesis/EC/ReleasedDataset_mp3/...   \n",
       "89840  /home/xuranzeng/thesis/EC/ReleasedDataset_mp3/...   \n",
       "89841  /home/xuranzeng/thesis/EC/ReleasedDataset_mp3/...   \n",
       "89842  /home/xuranzeng/thesis/EC/ReleasedDataset_mp3/...   \n",
       "\n",
       "                    Company       Day                     Filename  \n",
       "0      Booking Holdings Inc  20170509  Daniel J. Finnegan_15_1.mp3  \n",
       "1      Booking Holdings Inc  20170509  Daniel J. Finnegan_16_1.mp3  \n",
       "2      Booking Holdings Inc  20170509  Daniel J. Finnegan_1_14.mp3  \n",
       "3      Booking Holdings Inc  20170509  Daniel J. Finnegan_2_11.mp3  \n",
       "4      Booking Holdings Inc  20170509  Daniel J. Finnegan_10_5.mp3  \n",
       "...                     ...       ...                          ...  \n",
       "89838     Lilly (Eli) & Co.  20170425       David A. Ricks_1_6.mp3  \n",
       "89839     Lilly (Eli) & Co.  20170425       David A. Ricks_3_4.mp3  \n",
       "89840     Lilly (Eli) & Co.  20170425      David A. Ricks_5_10.mp3  \n",
       "89841     Lilly (Eli) & Co.  20170425      David A. Ricks_1_30.mp3  \n",
       "89842     Lilly (Eli) & Co.  20170425       David A. Ricks_1_3.mp3  \n",
       "\n",
       "[89843 rows x 4 columns]"
      ]
     },
     "execution_count": 41,
     "metadata": {},
     "output_type": "execute_result"
    }
   ],
   "source": [
    "data"
   ]
  },
  {
   "cell_type": "code",
   "execution_count": 42,
   "metadata": {},
   "outputs": [],
   "source": [
    "#data.to_csv('/home/xuranzeng/thesis/EC_path.csv')"
   ]
  },
  {
   "cell_type": "code",
   "execution_count": null,
   "metadata": {},
   "outputs": [],
   "source": [
    "# feature extraction"
   ]
  },
  {
   "cell_type": "code",
   "execution_count": 79,
   "metadata": {},
   "outputs": [],
   "source": [
    "# TEO\n",
    "from teo_cb_auto_env import TeagorExtractor\n",
    "\n",
    "import pydub\n",
    "import librosa\n",
    "from scipy import signal\n",
    "from mutagen.mp3 import MP3\n",
    "import numpy as np\n",
    "from numpy import sign, trapz\n",
    "from teager_py import Teager\n",
    "import statsmodels.api as sm\n",
    "import wave\n",
    "import statistics\n",
    "from pydub import AudioSegment\n",
    "\n",
    "t = TeagorExtractor()"
   ]
  },
  {
   "cell_type": "code",
   "execution_count": 95,
   "metadata": {},
   "outputs": [],
   "source": [
    "company_name = \"3M Company\"\n",
    "day_name = \"20170425\"\n",
    "sample = data.loc[(data[\"Company\"]==company_name) & (data[\"Day\"]==day_name)].reset_index(drop=True)"
   ]
  },
  {
   "cell_type": "code",
   "execution_count": 165,
   "metadata": {},
   "outputs": [
    {
     "data": {
      "text/html": [
       "<div>\n",
       "<style scoped>\n",
       "    .dataframe tbody tr th:only-of-type {\n",
       "        vertical-align: middle;\n",
       "    }\n",
       "\n",
       "    .dataframe tbody tr th {\n",
       "        vertical-align: top;\n",
       "    }\n",
       "\n",
       "    .dataframe thead th {\n",
       "        text-align: right;\n",
       "    }\n",
       "</style>\n",
       "<table border=\"1\" class=\"dataframe\">\n",
       "  <thead>\n",
       "    <tr style=\"text-align: right;\">\n",
       "      <th></th>\n",
       "      <th>Complete_Path</th>\n",
       "      <th>Company</th>\n",
       "      <th>Day</th>\n",
       "      <th>Filename</th>\n",
       "      <th>band1</th>\n",
       "      <th>band2</th>\n",
       "      <th>band3</th>\n",
       "      <th>band4</th>\n",
       "      <th>band5</th>\n",
       "      <th>band6</th>\n",
       "      <th>band7</th>\n",
       "      <th>band8</th>\n",
       "      <th>band9</th>\n",
       "      <th>band10</th>\n",
       "      <th>band11</th>\n",
       "      <th>band12</th>\n",
       "      <th>band13</th>\n",
       "      <th>band14</th>\n",
       "      <th>band15</th>\n",
       "      <th>band16</th>\n",
       "    </tr>\n",
       "  </thead>\n",
       "  <tbody>\n",
       "    <tr>\n",
       "      <th>0</th>\n",
       "      <td>/home/xuranzeng/thesis/EC/ReleasedDataset_mp3/...</td>\n",
       "      <td>3M Company</td>\n",
       "      <td>20170425</td>\n",
       "      <td>Nicholas C. Gangestad_9_3.mp3</td>\n",
       "      <td>22.707478</td>\n",
       "      <td>25.386090</td>\n",
       "      <td>29.092349</td>\n",
       "      <td>31.91716</td>\n",
       "      <td>27.745593</td>\n",
       "      <td>25.787118</td>\n",
       "      <td>25.252590</td>\n",
       "      <td>23.376251</td>\n",
       "      <td>25.050941</td>\n",
       "      <td>24.627595</td>\n",
       "      <td>24.042610</td>\n",
       "      <td>24.736106</td>\n",
       "      <td>25.619664</td>\n",
       "      <td>29.304457</td>\n",
       "      <td>30.982242</td>\n",
       "      <td>21.329632</td>\n",
       "    </tr>\n",
       "    <tr>\n",
       "      <th>1</th>\n",
       "      <td>/home/xuranzeng/thesis/EC/ReleasedDataset_mp3/...</td>\n",
       "      <td>3M Company</td>\n",
       "      <td>20170425</td>\n",
       "      <td>Nicholas C. Gangestad_1_37.mp3</td>\n",
       "      <td>23.248017</td>\n",
       "      <td>25.966949</td>\n",
       "      <td>28.807318</td>\n",
       "      <td>31.86898</td>\n",
       "      <td>27.904177</td>\n",
       "      <td>25.612565</td>\n",
       "      <td>25.447218</td>\n",
       "      <td>23.700010</td>\n",
       "      <td>24.866343</td>\n",
       "      <td>24.927017</td>\n",
       "      <td>24.778911</td>\n",
       "      <td>25.174092</td>\n",
       "      <td>25.126332</td>\n",
       "      <td>28.153340</td>\n",
       "      <td>28.744018</td>\n",
       "      <td>21.458480</td>\n",
       "    </tr>\n",
       "  </tbody>\n",
       "</table>\n",
       "</div>"
      ],
      "text/plain": [
       "                                       Complete_Path     Company       Day  \\\n",
       "0  /home/xuranzeng/thesis/EC/ReleasedDataset_mp3/...  3M Company  20170425   \n",
       "1  /home/xuranzeng/thesis/EC/ReleasedDataset_mp3/...  3M Company  20170425   \n",
       "\n",
       "                         Filename      band1      band2      band3     band4  \\\n",
       "0   Nicholas C. Gangestad_9_3.mp3  22.707478  25.386090  29.092349  31.91716   \n",
       "1  Nicholas C. Gangestad_1_37.mp3  23.248017  25.966949  28.807318  31.86898   \n",
       "\n",
       "       band5      band6      band7      band8      band9     band10  \\\n",
       "0  27.745593  25.787118  25.252590  23.376251  25.050941  24.627595   \n",
       "1  27.904177  25.612565  25.447218  23.700010  24.866343  24.927017   \n",
       "\n",
       "      band11     band12     band13     band14     band15     band16  \n",
       "0  24.042610  24.736106  25.619664  29.304457  30.982242  21.329632  \n",
       "1  24.778911  25.174092  25.126332  28.153340  28.744018  21.458480  "
      ]
     },
     "execution_count": 165,
     "metadata": {},
     "output_type": "execute_result"
    }
   ],
   "source": [
    "sample.head(2)"
   ]
  },
  {
   "cell_type": "code",
   "execution_count": 162,
   "metadata": {},
   "outputs": [],
   "source": [
    "def get_teo(sample):\n",
    "    TEO = []\n",
    "    for i in range(0,len(sample)):\n",
    "        filepath = sample.iloc[i,0]\n",
    "        teo_cb_auto_env = t.process_mp3(filepath,1)\n",
    "        TEO.append(pd.DataFrame(pd.DataFrame(teo_cb_auto_env).mean(axis=0)).T)\n",
    "    #print('processing:',i)\n",
    "    TEO = pd.concat(TEO).reset_index()\n",
    "    return TEO\n"
   ]
  },
  {
   "cell_type": "code",
   "execution_count": 163,
   "metadata": {},
   "outputs": [
    {
     "name": "stdout",
     "output_type": "stream",
     "text": [
      "Computing TEO Features ...\n",
      "0 2\n",
      "Computing TEO Features ...\n",
      "0 5\n"
     ]
    }
   ],
   "source": [
    "TE0_0105 = get_teo(sample)"
   ]
  },
  {
   "cell_type": "code",
   "execution_count": 101,
   "metadata": {},
   "outputs": [],
   "source": [
    "#TE0_0105.to_csv('/home/xuranzeng/thesis/TEO_0105.csv')"
   ]
  },
  {
   "cell_type": "code",
   "execution_count": null,
   "metadata": {},
   "outputs": [],
   "source": [
    "# GeMAPS\n",
    "import opensmile\n",
    "\n",
    "smile = opensmile.Smile(\n",
    "    feature_set=opensmile.FeatureSet.GeMAPSv01b,\n",
    "    feature_level=opensmile.FeatureLevel.LowLevelDescriptors,\n",
    ")"
   ]
  },
  {
   "cell_type": "code",
   "execution_count": 131,
   "metadata": {},
   "outputs": [],
   "source": [
    "def get_GeMAPS(path):\n",
    "    GeMAPS = []\n",
    "    for i in range(0,len(path)):\n",
    "        filepath = path.loc[i,'Complete_Path']\n",
    "        audio = AudioSegment.from_mp3(filepath)\n",
    "        sr = audio.frame_rate\n",
    "        audio = audio.get_array_of_samples()\n",
    "        df = smile.process_signal(audio,sr)\n",
    "        GeMAPS.append(pd.DataFrame(df.mean(axis=0)).T)\n",
    "        #print('processing:',i)\n",
    "    \n",
    "\n",
    "    GeMAPS = pd.concat(GeMAPS).reset_index()\n",
    "    return GeMAPS"
   ]
  },
  {
   "cell_type": "code",
   "execution_count": 137,
   "metadata": {},
   "outputs": [],
   "source": [
    "#GeMAPS_0105.to_csv('/home/xuranzeng/thesis/GeMAPS_0105.csv')"
   ]
  },
  {
   "cell_type": "code",
   "execution_count": null,
   "metadata": {},
   "outputs": [],
   "source": [
    "GeMAPS_0105 = get_GeMAPS(sample)"
   ]
  },
  {
   "cell_type": "code",
   "execution_count": 145,
   "metadata": {
    "scrolled": true
   },
   "outputs": [],
   "source": [
    "features = pd.concat([sample, GeMAPS_0105], axis=1)"
   ]
  },
  {
   "cell_type": "code",
   "execution_count": 147,
   "metadata": {},
   "outputs": [],
   "source": [
    "#features.to_csv('/home/xuranzeng/thesis/features_0105.csv')"
   ]
  },
  {
   "cell_type": "code",
   "execution_count": null,
   "metadata": {},
   "outputs": [],
   "source": []
  },
  {
   "cell_type": "code",
   "execution_count": null,
   "metadata": {},
   "outputs": [],
   "source": []
  },
  {
   "cell_type": "code",
   "execution_count": null,
   "metadata": {},
   "outputs": [],
   "source": []
  },
  {
   "cell_type": "code",
   "execution_count": null,
   "metadata": {
    "scrolled": true
   },
   "outputs": [],
   "source": []
  }
 ],
 "metadata": {
  "kernelspec": {
   "display_name": "Python 3",
   "language": "python",
   "name": "python3"
  },
  "language_info": {
   "codemirror_mode": {
    "name": "ipython",
    "version": 3
   },
   "file_extension": ".py",
   "mimetype": "text/x-python",
   "name": "python",
   "nbconvert_exporter": "python",
   "pygments_lexer": "ipython3",
   "version": "3.8.5"
  }
 },
 "nbformat": 4,
 "nbformat_minor": 4
}
