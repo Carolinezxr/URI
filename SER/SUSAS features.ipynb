{
 "cells": [
  {
   "cell_type": "code",
   "execution_count": 7,
   "metadata": {},
   "outputs": [],
   "source": [
    "import numpy as np\n",
    "import pandas as pd\n",
    "import opensmile\n",
    "\n",
    "\n",
    "import pydub\n",
    "import librosa\n",
    "from scipy import signal\n",
    "from mutagen.mp3 import MP3\n",
    "import numpy as np\n",
    "from numpy import sign, trapz\n",
    "from teager_py import Teager\n",
    "import statsmodels.api as sm\n",
    "import wave\n",
    "\n",
    "import warnings\n",
    "warnings.filterwarnings('ignore')"
   ]
  },
  {
   "cell_type": "code",
   "execution_count": 8,
   "metadata": {},
   "outputs": [],
   "source": [
    "# load path\n",
    "path = pd.read_csv('/project/graziul/ra/team_ser/susas_path.csv')\n",
    "path.drop(path.iloc[:, 0:1], inplace = True, axis = 1)\n",
    "path = path[['Path','Arousal','Valence']]"
   ]
  },
  {
   "cell_type": "code",
   "execution_count": 9,
   "metadata": {},
   "outputs": [
    {
     "data": {
      "text/html": [
       "<div>\n",
       "<style scoped>\n",
       "    .dataframe tbody tr th:only-of-type {\n",
       "        vertical-align: middle;\n",
       "    }\n",
       "\n",
       "    .dataframe tbody tr th {\n",
       "        vertical-align: top;\n",
       "    }\n",
       "\n",
       "    .dataframe thead th {\n",
       "        text-align: right;\n",
       "    }\n",
       "</style>\n",
       "<table border=\"1\" class=\"dataframe\">\n",
       "  <thead>\n",
       "    <tr style=\"text-align: right;\">\n",
       "      <th></th>\n",
       "      <th>Path</th>\n",
       "      <th>Arousal</th>\n",
       "      <th>Valence</th>\n",
       "    </tr>\n",
       "  </thead>\n",
       "  <tbody>\n",
       "    <tr>\n",
       "      <th>0</th>\n",
       "      <td>/project/graziul/data/corpora/susas/speech/act...</td>\n",
       "      <td>High</td>\n",
       "      <td>Negative</td>\n",
       "    </tr>\n",
       "    <tr>\n",
       "      <th>1</th>\n",
       "      <td>/project/graziul/data/corpora/susas/speech/act...</td>\n",
       "      <td>High</td>\n",
       "      <td>Negative</td>\n",
       "    </tr>\n",
       "  </tbody>\n",
       "</table>\n",
       "</div>"
      ],
      "text/plain": [
       "                                                Path Arousal   Valence\n",
       "0  /project/graziul/data/corpora/susas/speech/act...    High  Negative\n",
       "1  /project/graziul/data/corpora/susas/speech/act...    High  Negative"
      ]
     },
     "execution_count": 9,
     "metadata": {},
     "output_type": "execute_result"
    }
   ],
   "source": [
    "path.head(2)"
   ]
  },
  {
   "cell_type": "code",
   "execution_count": 10,
   "metadata": {},
   "outputs": [],
   "source": [
    "# convert librosa to AudioSegment\n",
    "def librosa_to_audiosegment(filename):\n",
    "    y, sr = librosa.load(filename)\n",
    "    # convert from float to uint16\n",
    "    y = np.array(y * (1<<15), dtype=np.int16)\n",
    "    audio_segment = pydub.AudioSegment(\n",
    "        y.tobytes(), \n",
    "        frame_rate=sr,\n",
    "        sample_width=y.dtype.itemsize, \n",
    "        channels=1\n",
    "    )\n",
    "    return audio_segment"
   ]
  },
  {
   "cell_type": "code",
   "execution_count": 11,
   "metadata": {},
   "outputs": [],
   "source": [
    "# GeMAPS\n",
    "\n",
    "smile = opensmile.Smile(\n",
    "    feature_set=opensmile.FeatureSet.GeMAPSv01b,\n",
    "    feature_level=opensmile.FeatureLevel.LowLevelDescriptors,\n",
    ")\n",
    "\n",
    "def get_GeMAPS(path):\n",
    "    GeMAPS = []\n",
    "    for i in range(0,len(path)):\n",
    "        filepath = path.loc[i,'Path']\n",
    "        # audio,sr = librosa.load(filepath,sr=22050) # all speech tokens were sampled at a rate of 22050Hz\n",
    "        audio = librosa_to_audiosegment(filepath) # convert librosa array to audiosegment\n",
    "        sr = audio.frame_rate\n",
    "        audio = np.array(audio.get_array_of_samples())\n",
    "        df = smile.process_signal(audio,sr)\n",
    "        GeMAPS.append(pd.DataFrame(df.mean(axis=0)).T)\n",
    "        print('processing:',i)\n",
    "    \n",
    "    GeMAPS = pd.concat(GeMAPS).reset_index()\n",
    "    return GeMAPS"
   ]
  },
  {
   "cell_type": "code",
   "execution_count": 17,
   "metadata": {},
   "outputs": [
    {
     "data": {
      "text/html": [
       "<div>\n",
       "<style scoped>\n",
       "    .dataframe tbody tr th:only-of-type {\n",
       "        vertical-align: middle;\n",
       "    }\n",
       "\n",
       "    .dataframe tbody tr th {\n",
       "        vertical-align: top;\n",
       "    }\n",
       "\n",
       "    .dataframe thead th {\n",
       "        text-align: right;\n",
       "    }\n",
       "</style>\n",
       "<table border=\"1\" class=\"dataframe\">\n",
       "  <thead>\n",
       "    <tr style=\"text-align: right;\">\n",
       "      <th></th>\n",
       "      <th>Path</th>\n",
       "      <th>Arousal</th>\n",
       "      <th>Valence</th>\n",
       "      <th>Loudness_sma3</th>\n",
       "      <th>alphaRatio_sma3</th>\n",
       "      <th>hammarbergIndex_sma3</th>\n",
       "      <th>slope0-500_sma3</th>\n",
       "      <th>slope500-1500_sma3</th>\n",
       "      <th>F0semitoneFrom27.5Hz_sma3nz</th>\n",
       "      <th>jitterLocal_sma3nz</th>\n",
       "      <th>...</th>\n",
       "      <th>HNRdBACF_sma3nz</th>\n",
       "      <th>logRelF0-H1-H2_sma3nz</th>\n",
       "      <th>logRelF0-H1-A3_sma3nz</th>\n",
       "      <th>F1frequency_sma3nz</th>\n",
       "      <th>F1bandwidth_sma3nz</th>\n",
       "      <th>F1amplitudeLogRelF0_sma3nz</th>\n",
       "      <th>F2frequency_sma3nz</th>\n",
       "      <th>F2amplitudeLogRelF0_sma3nz</th>\n",
       "      <th>F3frequency_sma3nz</th>\n",
       "      <th>F3amplitudeLogRelF0_sma3nz</th>\n",
       "    </tr>\n",
       "  </thead>\n",
       "  <tbody>\n",
       "    <tr>\n",
       "      <th>0</th>\n",
       "      <td>/project/graziul/data/corpora/susas/speech/act...</td>\n",
       "      <td>High</td>\n",
       "      <td>Negative</td>\n",
       "      <td>6.292282</td>\n",
       "      <td>-6.763290</td>\n",
       "      <td>18.529961</td>\n",
       "      <td>-0.086114</td>\n",
       "      <td>-0.002062</td>\n",
       "      <td>0.0</td>\n",
       "      <td>0.0</td>\n",
       "      <td>...</td>\n",
       "      <td>0.0</td>\n",
       "      <td>0.0</td>\n",
       "      <td>0.0</td>\n",
       "      <td>619.362793</td>\n",
       "      <td>730.045105</td>\n",
       "      <td>-201.0</td>\n",
       "      <td>1487.981445</td>\n",
       "      <td>-201.0</td>\n",
       "      <td>2418.518311</td>\n",
       "      <td>-201.0</td>\n",
       "    </tr>\n",
       "    <tr>\n",
       "      <th>1</th>\n",
       "      <td>/project/graziul/data/corpora/susas/speech/act...</td>\n",
       "      <td>High</td>\n",
       "      <td>Negative</td>\n",
       "      <td>6.322670</td>\n",
       "      <td>-6.638078</td>\n",
       "      <td>18.540451</td>\n",
       "      <td>-0.087078</td>\n",
       "      <td>-0.001739</td>\n",
       "      <td>0.0</td>\n",
       "      <td>0.0</td>\n",
       "      <td>...</td>\n",
       "      <td>0.0</td>\n",
       "      <td>0.0</td>\n",
       "      <td>0.0</td>\n",
       "      <td>627.472534</td>\n",
       "      <td>710.429443</td>\n",
       "      <td>-201.0</td>\n",
       "      <td>1501.422119</td>\n",
       "      <td>-201.0</td>\n",
       "      <td>2410.086670</td>\n",
       "      <td>-201.0</td>\n",
       "    </tr>\n",
       "  </tbody>\n",
       "</table>\n",
       "<p>2 rows × 21 columns</p>\n",
       "</div>"
      ],
      "text/plain": [
       "                                                Path Arousal   Valence  \\\n",
       "0  /project/graziul/data/corpora/susas/speech/act...    High  Negative   \n",
       "1  /project/graziul/data/corpora/susas/speech/act...    High  Negative   \n",
       "\n",
       "   Loudness_sma3  alphaRatio_sma3  hammarbergIndex_sma3  slope0-500_sma3  \\\n",
       "0       6.292282        -6.763290             18.529961        -0.086114   \n",
       "1       6.322670        -6.638078             18.540451        -0.087078   \n",
       "\n",
       "   slope500-1500_sma3  F0semitoneFrom27.5Hz_sma3nz  jitterLocal_sma3nz  ...  \\\n",
       "0           -0.002062                          0.0                 0.0  ...   \n",
       "1           -0.001739                          0.0                 0.0  ...   \n",
       "\n",
       "   HNRdBACF_sma3nz  logRelF0-H1-H2_sma3nz  logRelF0-H1-A3_sma3nz  \\\n",
       "0              0.0                    0.0                    0.0   \n",
       "1              0.0                    0.0                    0.0   \n",
       "\n",
       "   F1frequency_sma3nz  F1bandwidth_sma3nz  F1amplitudeLogRelF0_sma3nz  \\\n",
       "0          619.362793          730.045105                      -201.0   \n",
       "1          627.472534          710.429443                      -201.0   \n",
       "\n",
       "   F2frequency_sma3nz  F2amplitudeLogRelF0_sma3nz  F3frequency_sma3nz  \\\n",
       "0         1487.981445                      -201.0         2418.518311   \n",
       "1         1501.422119                      -201.0         2410.086670   \n",
       "\n",
       "   F3amplitudeLogRelF0_sma3nz  \n",
       "0                      -201.0  \n",
       "1                      -201.0  \n",
       "\n",
       "[2 rows x 21 columns]"
      ]
     },
     "execution_count": 17,
     "metadata": {},
     "output_type": "execute_result"
    }
   ],
   "source": [
    "GeMAPS_0105_features = pd.concat([path, GeMAPS_0105.iloc[:,1:]], axis=1)\n",
    "GeMAPS_0105_features.head(2)"
   ]
  },
  {
   "cell_type": "code",
   "execution_count": 16,
   "metadata": {
    "scrolled": true
   },
   "outputs": [],
   "source": [
    "#GeMAPS_0105 = get_GeMAPS(path)"
   ]
  },
  {
   "cell_type": "code",
   "execution_count": 14,
   "metadata": {},
   "outputs": [],
   "source": [
    "#GeMAPS_0105_features.to_csv('/project/graziul/ra/team_ser/GeMAPS_0105.csv')"
   ]
  },
  {
   "cell_type": "code",
   "execution_count": 18,
   "metadata": {},
   "outputs": [],
   "source": [
    "# descriptive stat"
   ]
  },
  {
   "cell_type": "code",
   "execution_count": null,
   "metadata": {},
   "outputs": [],
   "source": []
  },
  {
   "cell_type": "code",
   "execution_count": null,
   "metadata": {},
   "outputs": [],
   "source": []
  },
  {
   "cell_type": "code",
   "execution_count": null,
   "metadata": {},
   "outputs": [],
   "source": []
  },
  {
   "cell_type": "code",
   "execution_count": null,
   "metadata": {},
   "outputs": [],
   "source": []
  },
  {
   "cell_type": "code",
   "execution_count": null,
   "metadata": {},
   "outputs": [],
   "source": [
    "# feature extraction"
   ]
  },
  {
   "cell_type": "code",
   "execution_count": 46,
   "metadata": {},
   "outputs": [],
   "source": [
    "# TEO\n",
    "from teo_cb_auto_env import TeagorExtractor\n",
    "\n",
    "t = TeagorExtractor()\n",
    "\n",
    "def get_teo(sample):\n",
    "    TEO = []\n",
    "    for i in range(0,len(sample)):\n",
    "        filepath = sample.iloc[i,0]\n",
    "        teo_cb_auto_env = t.process_mp3(filepath,1)\n",
    "        TEO.append(pd.DataFrame(pd.DataFrame(teo_cb_auto_env).mean(axis=0)).T)\n",
    "    #print('processing:',i)\n",
    "    TEO = pd.concat(TEO).reset_index()\n",
    "    return TEO"
   ]
  },
  {
   "cell_type": "code",
   "execution_count": null,
   "metadata": {},
   "outputs": [],
   "source": [
    "TE0_0105 = get_teo(sample)"
   ]
  },
  {
   "cell_type": "code",
   "execution_count": null,
   "metadata": {},
   "outputs": [],
   "source": []
  },
  {
   "cell_type": "code",
   "execution_count": null,
   "metadata": {},
   "outputs": [],
   "source": [
    "features = pd.concat([sample, GeMAPS_0105], axis=1)"
   ]
  },
  {
   "cell_type": "code",
   "execution_count": null,
   "metadata": {},
   "outputs": [],
   "source": []
  },
  {
   "cell_type": "code",
   "execution_count": null,
   "metadata": {},
   "outputs": [],
   "source": []
  },
  {
   "cell_type": "code",
   "execution_count": 48,
   "metadata": {},
   "outputs": [],
   "source": []
  },
  {
   "cell_type": "code",
   "execution_count": null,
   "metadata": {},
   "outputs": [],
   "source": [
    "filepath = '/home/xuranzeng/SER/ProjectiveNum1.wav'"
   ]
  },
  {
   "cell_type": "code",
   "execution_count": null,
   "metadata": {},
   "outputs": [],
   "source": [
    "def split_wav(self, filepath, wav_filepath):\n",
    "        song = pydub.AudioSegment.from_wav(filepath)\n",
    "        duration = song.duration_seconds * 1000\n",
    "        # print(f\"Wav file length: {duration}\")\n",
    "        length = 0\n",
    "        self.audio_data_all = []\n",
    "        while length + int(self.delta * 1000) <= duration:\n",
    "            song_piece = song[length:length + int(self.delta * 1000)]\n",
    "            self.audio_data_all.append(np.array(song_piece.get_array_of_samples()).astype(np.int64))\n",
    "            length += int(self.delta * 1000)\n",
    "        # print(len(self.audio_data_all))"
   ]
  },
  {
   "cell_type": "code",
   "execution_count": null,
   "metadata": {},
   "outputs": [],
   "source": [
    "a = t.split_wav(filepath)"
   ]
  }
 ],
 "metadata": {
  "kernelspec": {
   "display_name": "Python 3",
   "language": "python",
   "name": "python3"
  },
  "language_info": {
   "codemirror_mode": {
    "name": "ipython",
    "version": 3
   },
   "file_extension": ".py",
   "mimetype": "text/x-python",
   "name": "python",
   "nbconvert_exporter": "python",
   "pygments_lexer": "ipython3",
   "version": "3.8.5"
  }
 },
 "nbformat": 4,
 "nbformat_minor": 4
}
