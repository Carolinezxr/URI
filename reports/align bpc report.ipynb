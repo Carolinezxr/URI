{
 "cells": [
  {
   "cell_type": "code",
   "execution_count": null,
   "metadata": {},
   "outputs": [],
   "source": [
    "import numpy as np\n",
    "import pandas as pd\n",
    "import csv\n",
    "import pandasql as ps\n",
    "import sqlite3\n",
    "import os\n",
    "\n",
    "import datetime\n",
    "from datetime import datetime"
   ]
  },
  {
   "cell_type": "code",
   "execution_count": null,
   "metadata": {},
   "outputs": [],
   "source": [
    "#report = pd.read_csv('/home/xuranzeng/project/data/crimes_data_zone_simplified.csv')\n",
    "#report = report.loc[(report[\"day\"]>\"2018-08-17\") & (report[\"day\"]<=\"2019-08-17\")]"
   ]
  },
  {
   "cell_type": "code",
   "execution_count": null,
   "metadata": {},
   "outputs": [],
   "source": [
    "# load bpc and report\n",
    "report = pd.read_csv('/home/xuranzeng/project/data/crimes_data_zone_simplified_sample.csv')\n",
    "report.drop(report.iloc[:, 0:2], inplace = True, axis = 1)\n",
    "\n",
    "bpc_freq = pd.read_csv('/project/graziul/features/meta/bpc_freq.csv')\n",
    "bpc_freq = bpc_freq.loc[(bpc_freq[\"date\"]>\"2018_08_17\") & (bpc_freq[\"date\"]<=\"2019_08_17\")]"
   ]
  },
  {
   "cell_type": "code",
   "execution_count": null,
   "metadata": {},
   "outputs": [],
   "source": [
    "# process time\n",
    "bpc_freq['start'] = pd.to_datetime(bpc_freq['file'], format='%Y%m%d%H%M')\n",
    "\n",
    "# process zone\n",
    "bpc_freq['zone'] = pd.to_numeric(bpc_freq['zone'].str[4:])\n",
    "\n",
    "# sort\n",
    "bpc_freq = bpc_freq.sort_values(by=['start',\"zone\"])\n",
    "\n",
    "# generate 30 min time range\n",
    "bpc_freq['end'] = bpc_freq.groupby('zone')['start'].shift(-1)\n",
    "\n",
    "# process time\n",
    "report['Date2'] = pd.to_datetime(report['Date'], format='%m/%d/%Y %I:%M:%S %p')\n",
    "\n",
    "# process zone\n",
    "report['Zone'] = pd.to_numeric(report['Zone'])\n",
    "\n",
    "# sort\n",
    "report = report.sort_values(by=['Date2',\"Zone\"])"
   ]
  },
  {
   "cell_type": "code",
   "execution_count": null,
   "metadata": {},
   "outputs": [],
   "source": [
    "# zone 1\n",
    "bpc_freq_sub = bpc_freq.loc[bpc_freq[\"zone\"]==1]\n",
    "report_sub = report.loc[report[\"Zone\"]==1]"
   ]
  },
  {
   "cell_type": "code",
   "execution_count": null,
   "metadata": {},
   "outputs": [],
   "source": [
    "# time align bpc file and report\n",
    "#Make the db in memory\n",
    "conn = sqlite3.connect(':memory:')\n",
    "\n",
    "#write the tables\n",
    "bpc_freq_sub.to_sql('bpc_freq_sub', conn, index=False)\n",
    "report_sub.to_sql('report_sub', conn, index=False)\n",
    "\n",
    "qry = '''\n",
    "    select  \n",
    "        *\n",
    "    from\n",
    "        bpc_freq_sub join report_sub \n",
    "        on  Date2 between start and end and\n",
    "        bpc_freq_sub.zone = report_sub.Zone\n",
    "    '''\n",
    "\n",
    "df = pd.read_sql_query(qry, conn)"
   ]
  },
  {
   "cell_type": "code",
   "execution_count": null,
   "metadata": {},
   "outputs": [],
   "source": [
    "#df.to_csv('/home/xuranzeng/project/data/aligned_sample.csv')"
   ]
  },
  {
   "cell_type": "code",
   "execution_count": null,
   "metadata": {},
   "outputs": [],
   "source": [
    "# method 2 (slow)\n",
    "#df = pd.merge(bpc_merge,report_merge, how='left', left_on='zone', right_on='Zone')\n",
    "#df = df[(df['Date2']>=df['start']) & (df['Date2']<=df['end'])]"
   ]
  }
 ],
 "metadata": {
  "kernelspec": {
   "display_name": "Python 3",
   "language": "python",
   "name": "python3"
  },
  "language_info": {
   "codemirror_mode": {
    "name": "ipython",
    "version": 3
   },
   "file_extension": ".py",
   "mimetype": "text/x-python",
   "name": "python",
   "nbconvert_exporter": "python",
   "pygments_lexer": "ipython3",
   "version": "3.8.5"
  }
 },
 "nbformat": 4,
 "nbformat_minor": 4
}
